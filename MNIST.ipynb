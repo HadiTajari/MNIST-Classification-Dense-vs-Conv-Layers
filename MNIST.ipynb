{
  "cells": [
    {
      "cell_type": "markdown",
      "metadata": {
        "id": "view-in-github",
        "colab_type": "text"
      },
      "source": [
        "<a href=\"https://colab.research.google.com/github/HadiTajari/MNIST-Classification-Dense-vs-Conv-Layers/blob/master/MNIST.ipynb\" target=\"_parent\"><img src=\"https://colab.research.google.com/assets/colab-badge.svg\" alt=\"Open In Colab\"/></a>"
      ]
    },
    {
      "cell_type": "markdown",
      "source": [
        "\n",
        "### MNIST Classification Using Dense Layers"
      ],
      "metadata": {
        "id": "vWzJVbNovlZ5"
      }
    },
    {
      "cell_type": "code",
      "execution_count": null,
      "metadata": {
        "id": "U-nNpj2EfrZp"
      },
      "outputs": [],
      "source": [
        "import tensorflow as tf\n",
        "from tensorflow.keras import datasets, utils, models, layers, optimizers, losses\n",
        "import numpy as np\n",
        "import matplotlib.pyplot as plt"
      ]
    },
    {
      "cell_type": "markdown",
      "source": [
        "## Let us load and Prepration Dataset"
      ],
      "metadata": {
        "id": "LqYatZnDzbiX"
      }
    },
    {
      "cell_type": "code",
      "execution_count": null,
      "metadata": {
        "id": "EouYGZmXf7ct",
        "colab": {
          "base_uri": "https://localhost:8080/"
        },
        "outputId": "446b96bf-e813-4aaf-bd99-3cce7829d416"
      },
      "outputs": [
        {
          "output_type": "stream",
          "name": "stdout",
          "text": [
            "Downloading data from https://storage.googleapis.com/tensorflow/tf-keras-datasets/mnist.npz\n",
            "11490434/11490434 [==============================] - 2s 0us/step\n",
            "train_images dimentions:  3\n",
            "train_images shape:  (60000, 28, 28)\n"
          ]
        }
      ],
      "source": [
        "(train_images , train_lables), (test_images, test_lables) = datasets.mnist.load_data()\n",
        "print ( \"train_images dimentions: \" , train_images.ndim)    # dimantionary of train data\n",
        "print ( \"train_images shape: \", train_images.shape)         # shape of train data"
      ]
    },
    {
      "cell_type": "code",
      "execution_count": null,
      "metadata": {
        "id": "k62Qhu3bhWam",
        "colab": {
          "base_uri": "https://localhost:8080/"
        },
        "outputId": "b894b7ac-1497-4a0f-fce8-7f5a04231032"
      },
      "outputs": [
        {
          "output_type": "stream",
          "name": "stdout",
          "text": [
            "5\n",
            "[0. 0. 0. 0. 0. 1. 0. 0. 0. 0.]\n"
          ]
        }
      ],
      "source": [
        "# preprocessing data\n",
        "X_train = train_images.reshape(60000, 784)   \n",
        "X_test = test_images.reshape(10000, 784)\n",
        "\n",
        "# scaling X (normalizing)                   #(x- min)/(max - min)\n",
        "X_train = X_train.astype(\"float32\") / 255       #we know the max of any image pixel is 255 and min is 0\n",
        "X_test = X_test.astype(\"float32\") / 255\n",
        "\n",
        "# one hot enconding lables\n",
        "y_train = utils.to_categorical(train_lables)\n",
        "y_test = utils.to_categorical(test_lables)\n",
        "\n",
        "print(train_lables[0])\n",
        "print(y_train[0])"
      ]
    },
    {
      "cell_type": "markdown",
      "source": [
        "### Visualization of some X"
      ],
      "metadata": {
        "id": "xz3BgvCK4pOt"
      }
    },
    {
      "cell_type": "code",
      "execution_count": null,
      "metadata": {
        "id": "0A72y96khmIU",
        "colab": {
          "base_uri": "https://localhost:8080/",
          "height": 168
        },
        "outputId": "9bf1f43a-be3c-48c3-886f-baef856018ed"
      },
      "outputs": [
        {
          "output_type": "display_data",
          "data": {
            "text/plain": [
              "<Figure size 640x480 with 5 Axes>"
            ],
            "image/png": "[encoded data removed]"
          },
          "metadata": {}
        }
      ],
      "source": [
        "for i in range(5):\n",
        "  plt.subplot(1, 5 , i+1)\n",
        "  plt.imshow(train_images[i], cmap= \"gray\")\n",
        "  plt.title(train_lables[i])"
      ]
    },
    {
      "cell_type": "markdown",
      "source": [
        "### Model Cration"
      ],
      "metadata": {
        "id": "DTas_2UA5i1y"
      }
    },
    {
      "cell_type": "code",
      "execution_count": null,
      "metadata": {
        "id": "jl4Nf23Ch8Px",
        "colab": {
          "base_uri": "https://localhost:8080/"
        },
        "outputId": "b3ded704-0309-4507-cec6-f882128fee6f"
      },
      "outputs": [
        {
          "output_type": "stream",
          "name": "stdout",
          "text": [
            "Model: \"sequential_2\"\n",
            "_________________________________________________________________\n",
            " Layer (type)                Output Shape              Param #   \n",
            "=================================================================\n",
            " dense_4 (Dense)             (None, 500)               392500    \n",
            "                                                                 \n",
            " dropout_2 (Dropout)         (None, 500)               0         \n",
            "                                                                 \n",
            " dense_5 (Dense)             (None, 100)               50100     \n",
            "                                                                 \n",
            " dropout_3 (Dropout)         (None, 100)               0         \n",
            "                                                                 \n",
            " dense_6 (Dense)             (None, 10)                1010      \n",
            "                                                                 \n",
            "=================================================================\n",
            "Total params: 443,610\n",
            "Trainable params: 443,610\n",
            "Non-trainable params: 0\n",
            "_________________________________________________________________\n"
          ]
        },
        {
          "output_type": "stream",
          "name": "stderr",
          "text": [
            "WARNING:absl:`lr` is deprecated in Keras optimizer, please use `learning_rate` or use the legacy optimizer, e.g.,tf.keras.optimizers.legacy.SGD.\n"
          ]
        }
      ],
      "source": [
        "myModel = models.Sequential()\n",
        "myModel.add(layers.Dense(500, activation = \"relu\", input_shape= (784,)))\n",
        "myModel.add(layers.Dropout(0.2))\n",
        "myModel.add(layers.Dense(100, activation = \"relu\"))\n",
        "myModel.add(layers.Dropout(0.2))\n",
        "myModel.add(layers.Dense(10, activation = \"softmax\"))  # we have 10 lables so we put in the finall lyers 100 and softmax, if we had 2 lables we must input 2 and binarymax\n",
        "\n",
        "myModel.summary()\n",
        "myModel.compile(optimizer= optimizers.SGD(lr = 0.001), loss=losses.categorical_crossentropy)\n"
      ]
    },
    {
      "cell_type": "markdown",
      "source": [
        "## Training and Fiting Model"
      ],
      "metadata": {
        "id": "ICneFF-eOhkm"
      }
    },
    {
      "cell_type": "code",
      "execution_count": null,
      "metadata": {
        "colab": {
          "base_uri": "https://localhost:8080/"
        },
        "id": "11sNbVJbiyro",
        "outputId": "e42f08d2-e738-48f6-fbbd-d39f68431fac"
      },
      "outputs": [
        {
          "output_type": "stream",
          "name": "stdout",
          "text": [
            "Epoch 1/20\n",
            "375/375 [==============================] - 6s 4ms/step - loss: 1.3636 - val_loss: 0.6313\n",
            "Epoch 2/20\n",
            "375/375 [==============================] - 2s 5ms/step - loss: 0.6474 - val_loss: 0.4179\n",
            "Epoch 3/20\n",
            "375/375 [==============================] - 2s 5ms/step - loss: 0.5005 - val_loss: 0.3481\n",
            "Epoch 4/20\n",
            "375/375 [==============================] - 1s 3ms/step - loss: 0.4370 - val_loss: 0.3128\n",
            "Epoch 5/20\n",
            "375/375 [==============================] - 1s 3ms/step - loss: 0.3964 - val_loss: 0.2886\n",
            "Epoch 6/20\n",
            "375/375 [==============================] - 1s 3ms/step - loss: 0.3694 - val_loss: 0.2705\n",
            "Epoch 7/20\n",
            "375/375 [==============================] - 1s 4ms/step - loss: 0.3420 - val_loss: 0.2556\n",
            "Epoch 8/20\n",
            "375/375 [==============================] - 1s 4ms/step - loss: 0.3241 - val_loss: 0.2420\n",
            "Epoch 9/20\n",
            "375/375 [==============================] - 1s 3ms/step - loss: 0.3085 - val_loss: 0.2312\n",
            "Epoch 10/20\n",
            "375/375 [==============================] - 1s 3ms/step - loss: 0.2942 - val_loss: 0.2225\n",
            "Epoch 11/20\n",
            "375/375 [==============================] - 2s 4ms/step - loss: 0.2807 - val_loss: 0.2135\n",
            "Epoch 12/20\n",
            "375/375 [==============================] - 2s 4ms/step - loss: 0.2702 - val_loss: 0.2050\n",
            "Epoch 13/20\n",
            "375/375 [==============================] - 1s 3ms/step - loss: 0.2589 - val_loss: 0.1985\n",
            "Epoch 14/20\n",
            "375/375 [==============================] - 1s 3ms/step - loss: 0.2503 - val_loss: 0.1921\n",
            "Epoch 15/20\n",
            "375/375 [==============================] - 1s 4ms/step - loss: 0.2406 - val_loss: 0.1854\n",
            "Epoch 16/20\n",
            "375/375 [==============================] - 1s 3ms/step - loss: 0.2330 - val_loss: 0.1808\n",
            "Epoch 17/20\n",
            "375/375 [==============================] - 1s 4ms/step - loss: 0.2244 - val_loss: 0.1758\n",
            "Epoch 18/20\n",
            "375/375 [==============================] - 1s 3ms/step - loss: 0.2204 - val_loss: 0.1706\n",
            "Epoch 19/20\n",
            "375/375 [==============================] - 1s 3ms/step - loss: 0.2150 - val_loss: 0.1665\n",
            "Epoch 20/20\n",
            "375/375 [==============================] - 2s 4ms/step - loss: 0.2062 - val_loss: 0.1622\n"
          ]
        }
      ],
      "source": [
        "history = myModel.fit(X_train, y_train, batch_size= 128, epochs = 20, validation_split=0.2)"
      ]
    },
    {
      "cell_type": "code",
      "execution_count": null,
      "metadata": {
        "id": "YZsysGksjgC7",
        "colab": {
          "base_uri": "https://localhost:8080/",
          "height": 447
        },
        "outputId": "ceb959ed-a387-49e5-f750-cac39acd579d"
      },
      "outputs": [
        {
          "output_type": "execute_result",
          "data": {
            "text/plain": [
              "<matplotlib.legend.Legend at 0x7fe51446d580>"
            ]
          },
          "metadata": {},
          "execution_count": 14
        },
        {
          "output_type": "display_data",
          "data": {
            "text/plain": [
              "<Figure size 640x480 with 1 Axes>"
            ],
            "image/png": "[encoded data removed]"
          },
          "metadata": {}
        }
      ],
      "source": [
        "losses = history.history[\"loss\"]\n",
        "val_losses = history.history[\"val_loss\"]\n",
        "plt.plot(losses)\n",
        "plt.plot(val_losses)\n",
        "plt.legend([\"loss\", \"val_loss\"])"
      ]
    },
    {
      "cell_type": "code",
      "execution_count": null,
      "metadata": {
        "id": "7odpMWc-n1mn"
      },
      "outputs": [],
      "source": [
        "# if loss plot decreases but val_loss is constant or increasingTit indicates that the model is overfitted."
      ]
    },
    {
      "cell_type": "code",
      "execution_count": 26,
      "metadata": {
        "id": "oFfXcyBBoDkO",
        "colab": {
          "base_uri": "https://localhost:8080/"
        },
        "outputId": "96ac476d-2f85-4819-d0e8-e37e27f55526"
      },
      "outputs": [
        {
          "output_type": "stream",
          "name": "stdout",
          "text": [
            "313/313 [==============================] - 1s 4ms/step - loss: 0.1595\n",
            "test loss:  0.15952453017234802\n",
            "313/313 [==============================] - 1s 2ms/step\n",
            "True Lables:  [2 1 0 4 1 4 9 5 9]\n",
            "Pred Lables:  [2 1 0 4 1 4 9 6 9]\n"
          ]
        }
      ],
      "source": [
        "# Evaluation\n",
        "test_loss = myModel.evaluate(X_test, y_test)\n",
        "print(\"test loss: \", test_loss)\n",
        "\n",
        "# Prediction\n",
        "test_lables_p = myModel.predict(X_test)\n",
        "test_lables_p = np.argmax(test_lables_p , axis=1)\n",
        "\n",
        "print(\"True Lables: \", test_lables[1:10])\n",
        "print(\"Pred Lables: \", test_lables_p[1:10])"
      ]
    },
    {
      "cell_type": "code",
      "execution_count": null,
      "metadata": {
        "id": "xkIBuz5a2hPB"
      },
      "outputs": [],
      "source": []
    }
  ],
  "metadata": {
    "colab": {
      "provenance": [],
      "authorship_tag": "ABX9TyMfwW3Ex6jbtN/IHeZZc6jS",
      "include_colab_link": true
    },
    "kernelspec": {
      "display_name": "Python 3",
      "name": "python3"
    },
    "language_info": {
      "name": "python"
    },
    "accelerator": "GPU",
    "gpuClass": "standard"
  },
  "nbformat": 4,
  "nbformat_minor": 0
}